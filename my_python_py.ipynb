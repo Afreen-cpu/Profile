{
  "nbformat": 4,
  "nbformat_minor": 0,
  "metadata": {
    "colab": {
      "provenance": [],
      "authorship_tag": "ABX9TyMQwVPn+gxQ4Hrorj96mwjy",
      "include_colab_link": true
    },
    "kernelspec": {
      "name": "python3",
      "display_name": "Python 3"
    },
    "language_info": {
      "name": "python"
    }
  },
  "cells": [
    {
      "cell_type": "markdown",
      "metadata": {
        "id": "view-in-github",
        "colab_type": "text"
      },
      "source": [
        "<a href=\"https://colab.research.google.com/github/Afreen-cpu/Profile/blob/main/my_python_py.ipynb\" target=\"_parent\"><img src=\"https://colab.research.google.com/assets/colab-badge.svg\" alt=\"Open In Colab\"/></a>"
      ]
    },
    {
      "cell_type": "code",
      "execution_count": 2,
      "metadata": {
        "colab": {
          "base_uri": "https://localhost:8080/"
        },
        "id": "zYdHBcM6RxX0",
        "outputId": "7c7930f8-f1f1-4ab3-c8c7-795b168932e8"
      },
      "outputs": [
        {
          "output_type": "stream",
          "name": "stdout",
          "text": [
            "enter a2\n",
            "enter b5\n",
            "addition result 7\n",
            "subtraction result -3\n",
            "multiplication result 10\n",
            "division  0.4\n"
          ]
        }
      ],
      "source": [
        "a=int(input(\"enter a\"))\n",
        "b=int(input(\"enter b\"))\n",
        "print(\"addition result\",a+b)\n",
        "print(\"subtraction result\",a-b)\n",
        "print(\"multiplication result\",a*b)\n",
        "print(\"division \",a/b)\n",
        "\n"
      ]
    }
  ]
}